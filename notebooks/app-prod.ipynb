{
 "cells": [
  {
   "cell_type": "code",
   "execution_count": null,
   "metadata": {},
   "outputs": [],
   "source": [
    "import os\n",
    "print(os.getcwd())\n",
    "\n",
    "from scripts.example_module import example_function\n",
    "\n",
    "# Call the function\n",
    "example_function()"
   ]
  },
  {
   "cell_type": "code",
   "execution_count": null,
   "metadata": {},
   "outputs": [],
   "source": [
    "from scripts.load_data import load_data\n",
    "\n",
    "# Load the dataset\n",
    "file_path = '../data/flight_df.csv'\n",
    "\n",
    "# Load the data as a dataframe\n",
    "df = load_data(file_path)\n",
    "\n",
    "# Select specified columns for app\n",
    "selected_columns = ['Inflight wifi service',\n",
    "                    'Online boarding',\n",
    "                    'Business Travel',\n",
    "                    'Inflight entertainment',\n",
    "                    'Loyal Customer',\n",
    "                    'Checkin service',\n",
    "                    'Flight Distance',\n",
    "                    'Age',\n",
    "                    'Seat comfort',\n",
    "                    'Class',\n",
    "                    'satisfied']\n",
    "\n",
    "# Filter the dataframe to use only the selected columns\n",
    "df = df[selected_columns]\n",
    "df.head()"
   ]
  },
  {
   "cell_type": "code",
   "execution_count": null,
   "metadata": {},
   "outputs": [],
   "source": []
  },
  {
   "cell_type": "code",
   "execution_count": null,
   "metadata": {},
   "outputs": [],
   "source": []
  }
 ],
 "metadata": {
  "kernelspec": {
   "display_name": "ml-classification-app",
   "language": "python",
   "name": "python3"
  },
  "language_info": {
   "codemirror_mode": {
    "name": "ipython",
    "version": 3
   },
   "file_extension": ".py",
   "mimetype": "text/x-python",
   "name": "python",
   "nbconvert_exporter": "python",
   "pygments_lexer": "ipython3",
   "version": "3.12.5"
  }
 },
 "nbformat": 4,
 "nbformat_minor": 2
}
