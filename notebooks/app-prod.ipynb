{
 "cells": [
  {
   "cell_type": "code",
   "execution_count": 1,
   "metadata": {},
   "outputs": [
    {
     "name": "stdout",
     "output_type": "stream",
     "text": [
      "f:\\Github\\ML Classification Deployment\\ML_Deployment\\notebooks\n",
      "Example function executed successfully!\n"
     ]
    }
   ],
   "source": [
    "import os\n",
    "print(os.getcwd())\n",
    "\n",
    "from scripts.example_module import example_function\n",
    "\n",
    "# Call the function\n",
    "example_function()"
   ]
  },
  {
   "cell_type": "code",
   "execution_count": 2,
   "metadata": {},
   "outputs": [
    {
     "data": {
      "text/html": [
       "<div>\n",
       "<style scoped>\n",
       "    .dataframe tbody tr th:only-of-type {\n",
       "        vertical-align: middle;\n",
       "    }\n",
       "\n",
       "    .dataframe tbody tr th {\n",
       "        vertical-align: top;\n",
       "    }\n",
       "\n",
       "    .dataframe thead th {\n",
       "        text-align: right;\n",
       "    }\n",
       "</style>\n",
       "<table border=\"1\" class=\"dataframe\">\n",
       "  <thead>\n",
       "    <tr style=\"text-align: right;\">\n",
       "      <th></th>\n",
       "      <th>Inflight wifi service</th>\n",
       "      <th>Online boarding</th>\n",
       "      <th>Business Travel</th>\n",
       "      <th>Inflight entertainment</th>\n",
       "      <th>Loyal Customer</th>\n",
       "      <th>Checkin service</th>\n",
       "      <th>Flight Distance</th>\n",
       "      <th>Age</th>\n",
       "      <th>Seat comfort</th>\n",
       "      <th>Class</th>\n",
       "      <th>satisfied</th>\n",
       "    </tr>\n",
       "  </thead>\n",
       "  <tbody>\n",
       "    <tr>\n",
       "      <th>0</th>\n",
       "      <td>2</td>\n",
       "      <td>2</td>\n",
       "      <td>1</td>\n",
       "      <td>2</td>\n",
       "      <td>1</td>\n",
       "      <td>3</td>\n",
       "      <td>2062</td>\n",
       "      <td>26</td>\n",
       "      <td>2</td>\n",
       "      <td>3</td>\n",
       "      <td>0</td>\n",
       "    </tr>\n",
       "    <tr>\n",
       "      <th>1</th>\n",
       "      <td>5</td>\n",
       "      <td>4</td>\n",
       "      <td>1</td>\n",
       "      <td>4</td>\n",
       "      <td>1</td>\n",
       "      <td>4</td>\n",
       "      <td>680</td>\n",
       "      <td>52</td>\n",
       "      <td>4</td>\n",
       "      <td>3</td>\n",
       "      <td>1</td>\n",
       "    </tr>\n",
       "    <tr>\n",
       "      <th>2</th>\n",
       "      <td>3</td>\n",
       "      <td>3</td>\n",
       "      <td>0</td>\n",
       "      <td>3</td>\n",
       "      <td>1</td>\n",
       "      <td>4</td>\n",
       "      <td>188</td>\n",
       "      <td>28</td>\n",
       "      <td>3</td>\n",
       "      <td>1</td>\n",
       "      <td>0</td>\n",
       "    </tr>\n",
       "    <tr>\n",
       "      <th>3</th>\n",
       "      <td>3</td>\n",
       "      <td>4</td>\n",
       "      <td>1</td>\n",
       "      <td>3</td>\n",
       "      <td>1</td>\n",
       "      <td>4</td>\n",
       "      <td>453</td>\n",
       "      <td>54</td>\n",
       "      <td>4</td>\n",
       "      <td>3</td>\n",
       "      <td>0</td>\n",
       "    </tr>\n",
       "    <tr>\n",
       "      <th>4</th>\n",
       "      <td>4</td>\n",
       "      <td>4</td>\n",
       "      <td>1</td>\n",
       "      <td>4</td>\n",
       "      <td>1</td>\n",
       "      <td>3</td>\n",
       "      <td>775</td>\n",
       "      <td>40</td>\n",
       "      <td>4</td>\n",
       "      <td>1</td>\n",
       "      <td>0</td>\n",
       "    </tr>\n",
       "  </tbody>\n",
       "</table>\n",
       "</div>"
      ],
      "text/plain": [
       "   Inflight wifi service  Online boarding  Business Travel  \\\n",
       "0                      2                2                1   \n",
       "1                      5                4                1   \n",
       "2                      3                3                0   \n",
       "3                      3                4                1   \n",
       "4                      4                4                1   \n",
       "\n",
       "   Inflight entertainment  Loyal Customer  Checkin service  Flight Distance  \\\n",
       "0                       2               1                3             2062   \n",
       "1                       4               1                4              680   \n",
       "2                       3               1                4              188   \n",
       "3                       3               1                4              453   \n",
       "4                       4               1                3              775   \n",
       "\n",
       "   Age  Seat comfort  Class  satisfied  \n",
       "0   26             2      3          0  \n",
       "1   52             4      3          1  \n",
       "2   28             3      1          0  \n",
       "3   54             4      3          0  \n",
       "4   40             4      1          0  "
      ]
     },
     "execution_count": 2,
     "metadata": {},
     "output_type": "execute_result"
    }
   ],
   "source": [
    "from scripts.load_data import load_data\n",
    "\n",
    "# Load the dataset\n",
    "file_path = '../data/flight_df.csv'\n",
    "\n",
    "# Load the data as a dataframe\n",
    "df = load_data(file_path)\n",
    "\n",
    "# Select specified columns for app\n",
    "selected_columns = ['Inflight wifi service',\n",
    "                    'Online boarding',\n",
    "                    'Business Travel',\n",
    "                    'Inflight entertainment',\n",
    "                    'Loyal Customer',\n",
    "                    'Checkin service',\n",
    "                    'Flight Distance',\n",
    "                    'Age',\n",
    "                    'Seat comfort',\n",
    "                    'Class',\n",
    "                    'satisfied']\n",
    "\n",
    "# Filter the dataframe to use only the selected columns\n",
    "df = df[selected_columns]\n",
    "df.head()"
   ]
  },
  {
   "cell_type": "code",
   "execution_count": 3,
   "metadata": {},
   "outputs": [],
   "source": [
    "from sklearn.model_selection import train_test_split\n",
    "\n",
    "# Define target and features\n",
    "y=df['satisfied']\n",
    "X= df.drop(columns='satisfied')\n"
   ]
  },
  {
   "cell_type": "code",
   "execution_count": 4,
   "metadata": {},
   "outputs": [
    {
     "name": "stdout",
     "output_type": "stream",
     "text": [
      "Dataframe saved successfully to: ../data/new_flight_df.csv\n"
     ]
    }
   ],
   "source": [
    "import os\n",
    "\n",
    "file = '../data/new_flight_df.csv'\n",
    "\n",
    "try:\n",
    "    # Save the features dataframe for the app\n",
    "    X.to_csv(file, index=False)\n",
    "    \n",
    "    # Confirm save if successful\n",
    "    if os.path.exists(file):\n",
    "        print(f'Dataframe saved successfully to: {file}')\n",
    "    else:\n",
    "        print(f'Failed to save dataframe: {file}')\n",
    "    \n",
    "except Exception as error:\n",
    "    print(f'Error saving dataframe to {file}: {error}')"
   ]
  },
  {
   "cell_type": "code",
   "execution_count": 5,
   "metadata": {},
   "outputs": [
    {
     "data": {
      "text/plain": [
       "satisfied\n",
       "0    0.56695\n",
       "1    0.43305\n",
       "Name: proportion, dtype: float64"
      ]
     },
     "execution_count": 5,
     "metadata": {},
     "output_type": "execute_result"
    }
   ],
   "source": [
    "# Split the dataset into train and test sets\n",
    "X_train, X_test, y_train, y_test = train_test_split(X, y, test_size=0.2, random_state=42)\n",
    "\n",
    "# Check for class imbalance\n",
    "y.value_counts(normalize=True)"
   ]
  },
  {
   "cell_type": "code",
   "execution_count": 6,
   "metadata": {},
   "outputs": [],
   "source": [
    "from scripts.preprocessing import create_preprocessing_pipeline\n",
    "\n",
    "# Create preprocessor object\n",
    "preprocessor = create_preprocessing_pipeline()"
   ]
  },
  {
   "cell_type": "code",
   "execution_count": 7,
   "metadata": {},
   "outputs": [],
   "source": [
    "import pandas as pd\n",
    "from scripts.preprocessing import preprocess_and_rebalance_data\n",
    "\n",
    "# Preprocess and rebalance the data \n",
    "# Preprocess and rebalance the data\n",
    "X_train_balanced, X_test_transformed, y_train_balanced = preprocess_and_rebalance_data(preprocessor, X_train, X_test, y_train)\n",
    "\n",
    "# Convert preprocessed data back into a dataframe\n",
    "X_train_balanced_df = pd.DataFrame(X_train_balanced)\n",
    "X_test_transformed_df = pd.DataFrame(X_test_transformed)\n"
   ]
  },
  {
   "cell_type": "code",
   "execution_count": null,
   "metadata": {},
   "outputs": [],
   "source": [
    "from scripts.train_evaluate import train_and_predict_model, evaluate_model\n",
    "import lightgbm as lgb\n",
    "\n",
    "# Instantiate the model\n",
    "lgbm_model = lgb.LGBMClassifier(verbose=-1,random_state=42)\n",
    "\n",
    "# Create predictions\n",
    "train_preds, test_preds = train_and_predict_model(X_train_balanced_df,y_train_balanced,X_test_transformed_df,preprocessor,lgbm_model)"
   ]
  }
 ],
 "metadata": {
  "kernelspec": {
   "display_name": "ml-classification-app",
   "language": "python",
   "name": "python3"
  },
  "language_info": {
   "codemirror_mode": {
    "name": "ipython",
    "version": 3
   },
   "file_extension": ".py",
   "mimetype": "text/x-python",
   "name": "python",
   "nbconvert_exporter": "python",
   "pygments_lexer": "ipython3",
   "version": "3.12.5"
  }
 },
 "nbformat": 4,
 "nbformat_minor": 2
}
